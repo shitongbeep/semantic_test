{
 "cells": [
  {
   "cell_type": "code",
   "execution_count": 1,
   "metadata": {},
   "outputs": [],
   "source": [
    "from dataloaders.pc_dataset import SemanticKITTI\n",
    "import argparse\n",
    "import yaml\n",
    "from easydict import EasyDict\n",
    "from PIL import Image\n",
    "from torchvision.transforms import transforms\n",
    "import numpy as np\n",
    "from torch.utils.data import DataLoader\n",
    "from sparse2dense._2dpapenet import get_model as DepthCompletionModel\n",
    "from matplotlib import cm\n",
    "import torch\n",
    "\n",
    "totensor = transforms.ToTensor()\n",
    "topil = transforms.ToPILImage()\n",
    "\n",
    "args = argparse.ArgumentParser()\n",
    "args = args.parse_args(args=[])\n",
    "with open('./config/semantic.yaml') as stream:\n",
    "    config = yaml.safe_load(stream)\n",
    "config.update(vars(args))\n",
    "args = EasyDict(config)\n",
    "dataset = SemanticKITTI(args=args)\n",
    "dataloader = DataLoader(dataset, 1, False)\n",
    "\n",
    "model = DepthCompletionModel(args).cuda()\n",
    "model = model.load_from_checkpoint('/root/autodl-nas/sparse2dense_s2/best_2dpapenet.ckpt', args=args, strict=False).cuda()"
   ]
  },
  {
   "cell_type": "code",
   "execution_count": 53,
   "metadata": {},
   "outputs": [
    {
     "ename": "KeyboardInterrupt",
     "evalue": "",
     "output_type": "error",
     "traceback": [
      "\u001b[0;31m---------------------------------------------------------------------------\u001b[0m",
      "\u001b[0;31mKeyboardInterrupt\u001b[0m                         Traceback (most recent call last)",
      "Cell \u001b[0;32mIn [53], line 38\u001b[0m\n\u001b[1;32m     35\u001b[0m dense_points \u001b[39m=\u001b[39m np\u001b[39m.\u001b[39mconcatenate(dense_points_list, axis\u001b[39m=\u001b[39m\u001b[39m0\u001b[39m)\n\u001b[1;32m     37\u001b[0m max_dist \u001b[39m=\u001b[39m \u001b[39mfloat\u001b[39m(output_data[\u001b[39m'\u001b[39m\u001b[39mproj_distance\u001b[39m\u001b[39m'\u001b[39m]\u001b[39m.\u001b[39mmax())\n\u001b[0;32m---> 38\u001b[0m cur_diatance \u001b[39m=\u001b[39m np\u001b[39m.\u001b[39;49mlinalg\u001b[39m.\u001b[39;49mnorm(dense_points, axis\u001b[39m=\u001b[39;49m\u001b[39m1\u001b[39;49m)\u001b[39m.\u001b[39mastype(np\u001b[39m.\u001b[39mfloat32)\n\u001b[1;32m     39\u001b[0m dense_points \u001b[39m=\u001b[39m dense_points[cur_diatance \u001b[39m<\u001b[39m max_dist]\n\u001b[1;32m     41\u001b[0m cat_ones \u001b[39m=\u001b[39m np\u001b[39m.\u001b[39mones((dense_points\u001b[39m.\u001b[39mshape[\u001b[39m0\u001b[39m], \u001b[39m1\u001b[39m))\n",
      "File \u001b[0;32m<__array_function__ internals>:180\u001b[0m, in \u001b[0;36mnorm\u001b[0;34m(*args, **kwargs)\u001b[0m\n",
      "File \u001b[0;32m~/miniconda3/envs/penet/lib/python3.8/site-packages/numpy/linalg/linalg.py:2557\u001b[0m, in \u001b[0;36mnorm\u001b[0;34m(x, ord, axis, keepdims)\u001b[0m\n\u001b[1;32m   2554\u001b[0m \u001b[39melif\u001b[39;00m \u001b[39mord\u001b[39m \u001b[39mis\u001b[39;00m \u001b[39mNone\u001b[39;00m \u001b[39mor\u001b[39;00m \u001b[39mord\u001b[39m \u001b[39m==\u001b[39m \u001b[39m2\u001b[39m:\n\u001b[1;32m   2555\u001b[0m     \u001b[39m# special case for speedup\u001b[39;00m\n\u001b[1;32m   2556\u001b[0m     s \u001b[39m=\u001b[39m (x\u001b[39m.\u001b[39mconj() \u001b[39m*\u001b[39m x)\u001b[39m.\u001b[39mreal\n\u001b[0;32m-> 2557\u001b[0m     \u001b[39mreturn\u001b[39;00m sqrt(add\u001b[39m.\u001b[39;49mreduce(s, axis\u001b[39m=\u001b[39;49maxis, keepdims\u001b[39m=\u001b[39;49mkeepdims))\n\u001b[1;32m   2558\u001b[0m \u001b[39m# None of the str-type keywords for ord ('fro', 'nuc')\u001b[39;00m\n\u001b[1;32m   2559\u001b[0m \u001b[39m# are valid for vectors\u001b[39;00m\n\u001b[1;32m   2560\u001b[0m \u001b[39melif\u001b[39;00m \u001b[39misinstance\u001b[39m(\u001b[39mord\u001b[39m, \u001b[39mstr\u001b[39m):\n",
      "\u001b[0;31mKeyboardInterrupt\u001b[0m: "
     ]
    }
   ],
   "source": [
    "cur_iter = iter(dataloader)\n",
    "for frame in range(len(dataloader)):\n",
    "    cur_data = next(cur_iter)\n",
    "    H = cur_data['velodyne_proj_img0'].shape[2]\n",
    "    W = cur_data['velodyne_proj_img0'].shape[3]\n",
    "    H_up = int(cur_data['denser_coordinate_lines'][0].squeeze()[:,1].max())\n",
    "    with torch.no_grad():\n",
    "        output_data = model(cur_data)\n",
    "    dense_img = output_data['all_refined_depth'].permute(0, 2, 3, 1).cpu().detach().numpy().squeeze()\n",
    "    ''' matrix '''\n",
    "    K = output_data['K'][0].cpu().numpy().squeeze()\n",
    "    T_velo2img = output_data['T_velo2img'].cpu().numpy().squeeze()[:3, :3]\n",
    "    T_4img = output_data['T_4img'].cpu().numpy().squeeze()[:3, :3]\n",
    "    T_rot = output_data['T_rot'].cpu().numpy().squeeze()[:3, :3]\n",
    "    K_inv = K[:3, :3]\n",
    "    K_inv = np.linalg.inv(K_inv)\n",
    "    T_velo2img_inv = np.linalg.inv(T_velo2img)\n",
    "    T_4img_inv = np.linalg.inv(T_4img)\n",
    "    T_rot_inv = np.linalg.inv(T_rot)\n",
    "    ''' point index in depth img '''\n",
    "    ''' transform points to velodyne_axis '''\n",
    "    coordinate = np.indices((H - H_up, W)).reshape((2, -1)).transpose(1, 0)\n",
    "    coordinate[:, 0:1] += H_up\n",
    "    dense_points_list = []\n",
    "    for img_idx in range(4):\n",
    "        z_axis = dense_img[coordinate[:, 0], coordinate[:, 1] + img_idx * W].reshape((-1, 1))\n",
    "        insert_uvd = np.concatenate([np.fliplr(coordinate), np.ones((coordinate.shape[0], 1))], axis=1)\n",
    "        insert_xyz = (K_inv @ insert_uvd.T).T * z_axis\n",
    "        mask = insert_xyz[:, 2] > 0\n",
    "        insert_xyz = insert_xyz[mask]\n",
    "        insert_point = (T_velo2img_inv @ insert_xyz.T).T\n",
    "        for i in range(img_idx):\n",
    "            insert_point = (T_4img_inv @ insert_point.T).T\n",
    "        insert_point = (T_rot_inv @ insert_point.T).T\n",
    "        dense_points_list.append(insert_point)\n",
    "    dense_points = np.concatenate(dense_points_list, axis=0)\n",
    "\n",
    "    max_dist = float(output_data['proj_distance'].max())\n",
    "    cur_diatance = np.linalg.norm(dense_points, axis=1).astype(np.float32)\n",
    "    dense_points = dense_points[cur_diatance < max_dist]\n",
    "\n",
    "    cat_ones = np.ones((dense_points.shape[0], 1))\n",
    "    dense_points = np.concatenate([dense_points, cat_ones], axis=1).astype(np.float32)\n",
    "    T_xyz = output_data['T_xyz']\n",
    "    T_xyz_inv = np.linalg.inv(T_xyz)\n",
    "    # dense_points = dense_points.astype(np.float32)\n",
    "    dense_points = (T_xyz_inv @ dense_points.T).T\n",
    "    # dense_points = np.concatenate([output_data['raw_data'].cpu().numpy().squeeze(), dense_points.squeeze()], axis=0)\n",
    "    dense_points = dense_points.astype(np.float32)\n",
    "    dense_points.tofile(args['dataset_params']['data_path'] + '/03/denser/'+str(frame).zfill(6)+'.bin')"
   ]
  }
 ],
 "metadata": {
  "kernelspec": {
   "display_name": "Python 3.8.13 ('penet': conda)",
   "language": "python",
   "name": "python3"
  },
  "language_info": {
   "codemirror_mode": {
    "name": "ipython",
    "version": 3
   },
   "file_extension": ".py",
   "mimetype": "text/x-python",
   "name": "python",
   "nbconvert_exporter": "python",
   "pygments_lexer": "ipython3",
   "version": "3.8.13"
  },
  "orig_nbformat": 4,
  "vscode": {
   "interpreter": {
    "hash": "e1fc1e811474242f9a80f350bca525d131516aec0bc249e097c26f903f4b6c36"
   }
  }
 },
 "nbformat": 4,
 "nbformat_minor": 2
}
