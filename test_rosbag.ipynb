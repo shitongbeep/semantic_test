{
 "cells": [
  {
   "cell_type": "code",
   "execution_count": 13,
   "metadata": {},
   "outputs": [
    {
     "name": "stdout",
     "output_type": "stream",
     "text": [
      "[[ 5.94760017e+01  1.47069998e+01  2.28099990e+00  0.00000000e+00]\n",
      " [ 5.94449997e+01  1.48979998e+01  2.28099990e+00  0.00000000e+00]\n",
      " [ 5.93639984e+01  1.51750002e+01  2.28099990e+00  0.00000000e+00]\n",
      " ...\n",
      " [ 3.75300002e+00 -1.42600000e+00 -1.75600004e+00  2.89999992e-01]\n",
      " [ 3.77200007e+00 -1.41999996e+00 -1.76400006e+00  2.89999992e-01]\n",
      " [ 3.76799989e+00 -1.40499997e+00 -1.75899994e+00  5.00000007e-02]]\n"
     ]
    }
   ],
   "source": [
    "import rosbag\n",
    "from sensor_msgs import point_cloud2\n",
    "from sensor_msgs.msg import PointCloud\n",
    "import numpy as np\n",
    "\n",
    "bag_path = '/home/shitong/Datasets/kitti_2011_09_30_drive_0016_synced.bag'\n",
    "\n",
    "bag_data = rosbag.Bag(bag_path)\n",
    "info = bag_data.get_type_and_topic_info()\n",
    "# print(info)\n",
    "\n",
    "velodyne_data = bag_data.read_messages('/kitti/velo/pointcloud')\n",
    "# cur_pc = point_cloud2.read_points_list(velodyne_data)\n",
    "# cur_pc_data = np.array(cur_pc.data)\n",
    "\n",
    "for topic, msg, t in velodyne_data:\n",
    "    cur_pc = point_cloud2.read_points(msg)\n",
    "    cur_pc_data = np.array(list(cur_pc))\n",
    "    print(cur_pc_data)\n",
    "    break"
   ]
  }
 ],
 "metadata": {
  "kernelspec": {
   "display_name": "Python 3.8.15 ('penet')",
   "language": "python",
   "name": "python3"
  },
  "language_info": {
   "codemirror_mode": {
    "name": "ipython",
    "version": 3
   },
   "file_extension": ".py",
   "mimetype": "text/x-python",
   "name": "python",
   "nbconvert_exporter": "python",
   "pygments_lexer": "ipython3",
   "version": "3.8.15"
  },
  "orig_nbformat": 4,
  "vscode": {
   "interpreter": {
    "hash": "acfa56169e220afabbe080785acf4a4a68f5104a907527d4a9aa410204f0f960"
   }
  }
 },
 "nbformat": 4,
 "nbformat_minor": 2
}
