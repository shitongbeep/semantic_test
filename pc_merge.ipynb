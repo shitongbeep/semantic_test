{
 "cells": [
  {
   "cell_type": "code",
   "execution_count": 1,
   "metadata": {},
   "outputs": [],
   "source": [
    "import os\n",
    "import numpy as np\n",
    "import yaml\n",
    "\n",
    "merge_n_frames = 20\n",
    "\n",
    "data_path = '/home/shitong/Datasets/04/'\n",
    "odom_folder = data_path + 'velodyne/'\n",
    "raw_folder = data_path + 'raw/'\n",
    "label_folder = data_path + 'labels/'\n",
    "pose_file = data_path + 'poses.txt'\n",
    "calib_file = data_path + 'calib.txt'\n",
    "config_file = './config/semantic-kitti.yaml'\n",
    "\n",
    "odom_file_list = []\n",
    "raw_file_list = []\n",
    "label_file_list = []\n",
    "'''取所有odom点云文件路径'''\n",
    "for folder_path, _, file_list in os.walk(odom_folder):\n",
    "    file_list.sort()\n",
    "    odom_file_list = [os.path.abspath(os.path.join(folder_path, f)) for f in file_list]\n",
    "'''取所有raw点云文件路径'''\n",
    "for folder_path, _, file_list in os.walk(raw_folder):\n",
    "    file_list.sort()\n",
    "    raw_file_list = [os.path.abspath(os.path.join(folder_path, f)) for f in file_list]\n",
    "'''取所有label文件路径'''\n",
    "for folder_path, _, file_list in os.walk(label_folder):\n",
    "    file_list.sort()\n",
    "    label_file_list = [os.path.abspath(os.path.join(folder_path, f)) for f in file_list]\n",
    "'''读取T_cam_velo'''\n",
    "with open(calib_file) as file:\n",
    "    data = file.readlines()\n",
    "    T_cam_velo34 = data[4].split(':')[1].split(' ')[1:]\n",
    "    T_cam_velo34 = np.array(T_cam_velo34).astype(np.float32).reshape((3, 4))\n",
    "    T_cam_velo = np.identity(4)\n",
    "    T_cam_velo[:3, :] = T_cam_velo34\n",
    "T_velo_cam = np.linalg.inv(T_cam_velo)\n",
    "'''读取T_w_cam'''\n",
    "with open(pose_file) as file:\n",
    "    data = file.readlines()\n",
    "    T_w_cam34 = data[0].split(' ')\n",
    "    T_w_cam34 = np.array(T_w_cam34).astype(np.float32).reshape((3, 4))\n",
    "    T_w_cam = np.identity(4)\n",
    "    T_w_cam[:3, :] = T_w_cam34\n",
    "T_cam_w = np.linalg.inv(T_w_cam)\n",
    "'''读取pose'''\n",
    "pose_list = []\n",
    "with open(pose_file) as file:\n",
    "    data = file.readlines()\n",
    "    data = [d.split(' ') for d in data]\n",
    "    pose_list = [np.array(d).astype(np.float32).reshape((3, 4)) for d in data]\n",
    "# print(pose_list)\n",
    "'''读取colormap'''\n",
    "with open(config_file) as file:\n",
    "    config = yaml.safe_load(file)\n",
    "    color_dict = config['color_map']\n",
    "    color_map = np.zeros((max(color_dict.keys())+ 1, 3))\n",
    "    for key,value in color_dict.items():\n",
    "        color_map[key] = np.array(value)"
   ]
  },
  {
   "cell_type": "code",
   "execution_count": 2,
   "metadata": {},
   "outputs": [],
   "source": [
    "'''读取label'''\n",
    "color_merged = None\n",
    "for frame in range(min(merge_n_frames, len(label_file_list))):\n",
    "    cur_label = np.fromfile(label_file_list[frame], np.int32).reshape(-1)\n",
    "    sem_label = cur_label & 0xFFFF\n",
    "    cur_color = color_map[sem_label] / 256.\n",
    "    # cur_color[:, 0] = 1. - frame / 3 / merge_n_frames\n",
    "    # cur_color[:, 1] = 1. - frame / 2 / merge_n_frames\n",
    "    # cur_color[:, 2] = 1. - frame / 4 / merge_n_frames\n",
    "    if color_merged is None:\n",
    "        color_merged = cur_color.astype(np.float32)\n",
    "    else:\n",
    "        color_merged = np.concatenate([color_merged, cur_color], axis=0).astype(np.float32)\n",
    "    # print(cur_color)\n",
    "color_merged = color_merged.astype(np.float32)\n",
    "color_merged.tofile('././bin/color_merged_pc.color')"
   ]
  },
  {
   "cell_type": "code",
   "execution_count": 3,
   "metadata": {},
   "outputs": [],
   "source": [
    "odom_merged_pc = None\n",
    "for frame in range(min(merge_n_frames, len(odom_file_list))):\n",
    "    # print(odom_file_list[frame])\n",
    "    cur_pc = np.fromfile(odom_file_list[frame], np.float32).reshape((-1, 4))\n",
    "    cur_pc_i = cur_pc[:, -1]\n",
    "    cur_pc[:, -1] = 1.\n",
    "    cur_pose = np.identity(4)\n",
    "    cur_pose[:3, :] = pose_list[frame][:3, :]\n",
    "    cur_pc = (T_velo_cam @ T_cam_w @ cur_pose @ T_cam_velo @ cur_pc.T).T\n",
    "    cur_pc[:, -1] = cur_pc_i\n",
    "    if odom_merged_pc is None:\n",
    "        odom_merged_pc = cur_pc\n",
    "    else:\n",
    "        odom_merged_pc = np.concatenate([odom_merged_pc, cur_pc], axis=0)\n",
    "        \n",
    "odom_merged_pc = odom_merged_pc.astype(np.float32)\n",
    "odom_merged_pc.tofile('././bin/odom_merged_pc.bin')"
   ]
  },
  {
   "cell_type": "code",
   "execution_count": 4,
   "metadata": {},
   "outputs": [],
   "source": [
    "raw_merged_pc = None\n",
    "for frame in range(min(merge_n_frames, len(raw_file_list))):\n",
    "    # print(odom_file_list[frame])\n",
    "    cur_pc = np.fromfile(raw_file_list[frame], np.float32).reshape((-1, 4))\n",
    "    cur_pc_i = cur_pc[:, -1]\n",
    "    cur_pc[:, -1] = 1.\n",
    "    cur_pose = np.identity(4)\n",
    "    cur_pose[:3, :] = pose_list[frame][:3, :]\n",
    "    cur_pc = (T_velo_cam @ T_cam_w @ cur_pose @ T_cam_velo @ cur_pc.T).T\n",
    "    cur_pc[:, -1] = cur_pc_i\n",
    "    if raw_merged_pc is None:\n",
    "        raw_merged_pc = cur_pc\n",
    "    else:\n",
    "        raw_merged_pc = np.concatenate([raw_merged_pc, cur_pc], axis=0)\n",
    "\n",
    "raw_merged_pc = raw_merged_pc.astype(np.float32)\n",
    "raw_merged_pc.tofile('././bin/raw_merged_pc.bin')"
   ]
  },
  {
   "cell_type": "code",
   "execution_count": 5,
   "metadata": {},
   "outputs": [
    {
     "name": "stdout",
     "output_type": "stream",
     "text": [
      "Jupyter environment detected. Enabling Open3D WebVisualizer.\n",
      "[Open3D INFO] WebRTC GUI backend enabled.\n",
      "[Open3D INFO] WebRTCWindowSystem: HTTP handshake server disabled.\n"
     ]
    }
   ],
   "source": [
    "import open3d\n",
    "\n",
    "mesh_frame = open3d.geometry.TriangleMesh.create_coordinate_frame(size=1, origin=[0, 0, 0])\n",
    "\n",
    "odom_pcd = open3d.geometry.PointCloud()\n",
    "odom_pcd.points = open3d.utility.Vector3dVector(odom_merged_pc[:, :3])\n",
    "odom_pcd.colors = open3d.utility.Vector3dVector(color_merged)\n",
    "\n",
    "raw_pcd = open3d.geometry.PointCloud()\n",
    "raw_pcd.points = open3d.utility.Vector3dVector(raw_merged_pc[:, :3])\n",
    "raw_pcd.colors = open3d.utility.Vector3dVector(color_merged)\n",
    "\n",
    "vis_ = open3d.visualization.Visualizer()\n",
    "vis_.create_window()\n",
    "vis_.add_geometry(odom_pcd)\n",
    "# vis_.add_geometry(raw_pcd)\n",
    "vis_.add_geometry(mesh_frame)\n",
    "render_options = vis_.get_render_option()\n",
    "render_options.point_size = 1\n",
    "render_options.background_color = np.array([0.2, 0.2, 0.2])\n",
    "vis_.run()\n",
    "vis_.destroy_window()"
   ]
  }
 ],
 "metadata": {
  "kernelspec": {
   "display_name": "Python 3.8.15 ('penet')",
   "language": "python",
   "name": "python3"
  },
  "language_info": {
   "codemirror_mode": {
    "name": "ipython",
    "version": 3
   },
   "file_extension": ".py",
   "mimetype": "text/x-python",
   "name": "python",
   "nbconvert_exporter": "python",
   "pygments_lexer": "ipython3",
   "version": "3.8.15"
  },
  "orig_nbformat": 4,
  "vscode": {
   "interpreter": {
    "hash": "acfa56169e220afabbe080785acf4a4a68f5104a907527d4a9aa410204f0f960"
   }
  }
 },
 "nbformat": 4,
 "nbformat_minor": 2
}
