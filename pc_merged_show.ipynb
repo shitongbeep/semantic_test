{
 "cells": [
  {
   "cell_type": "code",
   "execution_count": 1,
   "metadata": {},
   "outputs": [],
   "source": [
    "from utils.fourViewProj import FourViewProj\n",
    "calib_path = './config/calib.txt'\n",
    "gt_data_path = '././bin/odom_merged_pc.bin'\n",
    "gt_four_view_proj = FourViewProj(320, 1216)\n",
    "gt_four_view_proj.forward(gt_data_path, calib_path)\n",
    "gt_four_view_proj.showProjImg()\n"
   ]
  },
  {
   "cell_type": "code",
   "execution_count": 1,
   "metadata": {},
   "outputs": [
    {
     "name": "stdout",
     "output_type": "stream",
     "text": [
      "Jupyter environment detected. Enabling Open3D WebVisualizer.\n",
      "[Open3D INFO] WebRTC GUI backend enabled.\n",
      "[Open3D INFO] WebRTCWindowSystem: HTTP handshake server disabled.\n"
     ]
    }
   ],
   "source": [
    "import open3d\n",
    "import numpy as np\n",
    "\n",
    "mesh_frame = open3d.geometry.TriangleMesh.create_coordinate_frame(size=1, origin=[0, 0, 0])\n",
    "\n",
    "test_pc = np.fromfile('/home/shitong/Datasets/04/velodyne/000000.bin', np.float32).reshape((-1,4))\n",
    "test_pcd = open3d.geometry.PointCloud()\n",
    "test_pcd.points = open3d.utility.Vector3dVector(test_pc[:, :3])\n",
    "\n",
    "color_merged = np.fromfile('././bin/color_merged_pc.color', np.float32).reshape((-1,3))\n",
    "odom_merged_pc = np.fromfile('././bin/odom_merged_pc.bin', np.float32).reshape((-1,4))\n",
    "raw_merged_pc = np.fromfile('././bin/raw_merged_pc.bin', np.float32).reshape((-1,4))\n",
    "\n",
    "odom_pcd = open3d.geometry.PointCloud()\n",
    "odom_pcd.points = open3d.utility.Vector3dVector(odom_merged_pc[:, :3])\n",
    "odom_pcd.colors = open3d.utility.Vector3dVector(color_merged)\n",
    "\n",
    "raw_pcd = open3d.geometry.PointCloud()\n",
    "raw_pcd.points = open3d.utility.Vector3dVector(raw_merged_pc[:, :3])\n",
    "raw_pcd.colors = open3d.utility.Vector3dVector(color_merged)\n",
    "\n",
    "vis_ = open3d.visualization.Visualizer()\n",
    "vis_.create_window()\n",
    "vis_.add_geometry(odom_pcd)\n",
    "# vis_.add_geometry(raw_pcd)\n",
    "vis_.add_geometry(test_pcd)\n",
    "\n",
    "vis_.add_geometry(mesh_frame)\n",
    "render_options = vis_.get_render_option()\n",
    "render_options.point_size = 1\n",
    "render_options.background_color = np.array([0, 0, 0])\n",
    "vis_.run()\n",
    "vis_.destroy_window()"
   ]
  }
 ],
 "metadata": {
  "kernelspec": {
   "display_name": "Python 3.8.15 ('penet')",
   "language": "python",
   "name": "python3"
  },
  "language_info": {
   "codemirror_mode": {
    "name": "ipython",
    "version": 3
   },
   "file_extension": ".py",
   "mimetype": "text/x-python",
   "name": "python",
   "nbconvert_exporter": "python",
   "pygments_lexer": "ipython3",
   "version": "3.8.15"
  },
  "orig_nbformat": 4,
  "vscode": {
   "interpreter": {
    "hash": "acfa56169e220afabbe080785acf4a4a68f5104a907527d4a9aa410204f0f960"
   }
  }
 },
 "nbformat": 4,
 "nbformat_minor": 2
}
